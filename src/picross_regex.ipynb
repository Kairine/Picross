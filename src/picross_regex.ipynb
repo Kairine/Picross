{
 "cells": [
  {
   "cell_type": "markdown",
   "metadata": {},
   "source": [
    "## Solve PiCross with regex\n",
    "Use numbers to represent cell state. 0 for unknown, 1 for false, 2 for true. Turn grid into string and use regex to match pattern."
   ]
  },
  {
   "cell_type": "code",
   "execution_count": 56,
   "metadata": {},
   "outputs": [],
   "source": [
    "import re\n",
    "from itertools import repeat\n",
    "from copy import deepcopy\n",
    "from pprint import pprint"
   ]
  },
  {
   "cell_type": "code",
   "execution_count": 139,
   "metadata": {},
   "outputs": [],
   "source": [
    "def init_grid(x, y):\n",
    "    '''\n",
    "    Initialize the grid: full 0\n",
    "    '''\n",
    "    grid = []\n",
    "    for i in range(y):\n",
    "        grid.append(list(repeat(0,x))) # why not repeat: repear returns THE SAME OBJECT\n",
    "    return grid"
   ]
  },
  {
   "cell_type": "code",
   "execution_count": 203,
   "metadata": {},
   "outputs": [],
   "source": [
    "x = 10\n",
    "y = 10\n",
    "grid = init_grid(x, y)"
   ]
  },
  {
   "cell_type": "code",
   "execution_count": 142,
   "metadata": {},
   "outputs": [
    {
     "data": {
      "text/plain": [
       "[[0, 0, 0, 0, 0, 0, 0, 0, 0, 0],\n",
       " [0, 0, 0, 0, 0, 0, 0, 0, 0, 0],\n",
       " [0, 0, 0, 0, 0, 0, 0, 0, 0, 0],\n",
       " [0, 0, 0, 0, 0, 0, 0, 0, 0, 0],\n",
       " [0, 0, 0, 0, 0, 0, 0, 0, 0, 0],\n",
       " [0, 0, 0, 0, 0, 0, 0, 0, 0, 0],\n",
       " [0, 0, 0, 0, 0, 0, 0, 0, 0, 0],\n",
       " [0, 0, 0, 0, 0, 0, 0, 0, 0, 0],\n",
       " [0, 0, 0, 0, 0, 0, 0, 0, 0, 0],\n",
       " [0, 0, 0, 0, 0, 0, 0, 0, 0, 0]]"
      ]
     },
     "execution_count": 142,
     "metadata": {},
     "output_type": "execute_result"
    }
   ],
   "source": [
    "grid"
   ]
  },
  {
   "cell_type": "code",
   "execution_count": 43,
   "metadata": {},
   "outputs": [],
   "source": [
    "param_hor = [[2,1], [3,1], [3,1], [1,1,2], [5,2], [2,3,2], [7,2], [6,3], [9], [3,6]]\n",
    "param_ver = [[2,1], [6], [7], [1,3], [3,6], [10], [2,2,2], [3], [10],[7]]"
   ]
  },
  {
   "cell_type": "code",
   "execution_count": 6,
   "metadata": {},
   "outputs": [],
   "source": [
    "assert len(param_hor) == x\n",
    "assert len(param_ver) == y"
   ]
  },
  {
   "cell_type": "markdown",
   "metadata": {},
   "source": [
    "### First round\n",
    "Fill full lines."
   ]
  },
  {
   "cell_type": "code",
   "execution_count": 44,
   "metadata": {},
   "outputs": [],
   "source": [
    "# top down\n",
    "def first_round_topdown(grid, x, param_ver):\n",
    "    _grid = deepcopy(grid)\n",
    "    _param_ver = deepcopy(param_ver)\n",
    "    \n",
    "    for i, param in enumerate(_param_ver):\n",
    "         if sum(param) + len(param) - 1 == x: \n",
    "            ele = param.pop(0)\n",
    "            new_grid = list(repeat(2, ele))\n",
    "            while param:\n",
    "                new_grid.append(1)\n",
    "                ele = param.pop(0)\n",
    "                new_grid.extend(list(repeat(2, ele)))\n",
    "            _grid[i] = new_grid\n",
    "            \n",
    "    return _grid"
   ]
  },
  {
   "cell_type": "code",
   "execution_count": 147,
   "metadata": {},
   "outputs": [],
   "source": [
    "# left to right\n",
    "def first_round_horizontal(grid, y, param_hor):\n",
    "    _grid = deepcopy(grid)\n",
    "    _param_hor = deepcopy(param_hor)\n",
    "    \n",
    "    for i, param in enumerate(_param_hor):\n",
    "        if sum(param) + len(param) - 1 == y: \n",
    "            ele = param.pop(0)\n",
    "            new_grid = list(repeat(2, ele))\n",
    "            while param:\n",
    "                new_grid.append(1)\n",
    "                ele = param.pop(0)\n",
    "                new_grid.extend(list(repeat(2, ele)))\n",
    "\n",
    "            for j, ele in enumerate(new_grid):\n",
    "                _grid[j][i] = ele\n",
    "            \n",
    "    return _grid"
   ]
  },
  {
   "cell_type": "code",
   "execution_count": 204,
   "metadata": {},
   "outputs": [],
   "source": [
    "temp_grid = first_round_topdown(grid, x, param_ver)"
   ]
  },
  {
   "cell_type": "code",
   "execution_count": 205,
   "metadata": {
    "scrolled": false
   },
   "outputs": [],
   "source": [
    "temp_grid = first_round_horizontal(temp_grid, y, param_hor)"
   ]
  },
  {
   "cell_type": "code",
   "execution_count": 157,
   "metadata": {},
   "outputs": [
    {
     "data": {
      "text/plain": [
       "[[0, 0, 0, 0, 0, 0, 2, 2, 0, 2],\n",
       " [0, 0, 0, 0, 0, 0, 2, 2, 0, 2],\n",
       " [0, 0, 0, 0, 0, 0, 2, 2, 0, 2],\n",
       " [0, 0, 0, 0, 0, 0, 2, 2, 0, 1],\n",
       " [2, 2, 2, 1, 2, 2, 2, 2, 2, 2],\n",
       " [2, 2, 2, 2, 2, 2, 2, 2, 2, 2],\n",
       " [0, 0, 0, 0, 0, 0, 2, 1, 0, 2],\n",
       " [0, 0, 0, 0, 0, 0, 1, 2, 0, 2],\n",
       " [2, 2, 2, 2, 2, 2, 2, 2, 2, 2],\n",
       " [0, 0, 0, 0, 0, 0, 2, 2, 0, 2]]"
      ]
     },
     "execution_count": 157,
     "metadata": {},
     "output_type": "execute_result"
    }
   ],
   "source": [
    "temp_grid"
   ]
  },
  {
   "cell_type": "markdown",
   "metadata": {},
   "source": [
    "### Second round"
   ]
  },
  {
   "cell_type": "code",
   "execution_count": 211,
   "metadata": {},
   "outputs": [],
   "source": [
    "def param_to_regex(param):\n",
    "    regex = r'[01]*'\n",
    "    for ele in param:\n",
    "        regex += r'2'*ele\n",
    "        regex += r'[01]*'\n",
    "    return re.compile(regex)"
   ]
  },
  {
   "cell_type": "code",
   "execution_count": 259,
   "metadata": {},
   "outputs": [],
   "source": [
    "# top down\n",
    "def second_round_topdown(grid, y, param_ver):\n",
    "    _grid = deepcopy(grid)\n",
    "    \n",
    "    for i in range(y):\n",
    "        line = _grid[i]\n",
    "        param = param_ver[i]\n",
    "        if 0 not in line: # line complete\n",
    "            continue\n",
    "        elif (y - line.count(1)) == sum(param): # line almost complete\n",
    "            _grid[i] = [2 if l == 0 else l for l in line]\n",
    "        else:\n",
    "            line_str = ''.join(list(map(str, line)))\n",
    "            pat = param_to_regex(param)\n",
    "            if pat.search(line_str): # pattern already fulfilled \n",
    "                line_str = line_str.replace('0', '1')\n",
    "                _grid[i] = list(map(int, list(line_str)))\n",
    "            else: # pattern not fulfilled: search for possible solutions\n",
    "                pass\n",
    "        \n",
    "    return _grid"
   ]
  },
  {
   "cell_type": "code",
   "execution_count": 260,
   "metadata": {},
   "outputs": [],
   "source": [
    "third_grid = second_round_topdown(temp_grid, y, param_ver)"
   ]
  },
  {
   "cell_type": "code",
   "execution_count": 261,
   "metadata": {},
   "outputs": [
    {
     "data": {
      "text/plain": [
       "[[1, 1, 1, 1, 1, 1, 2, 2, 1, 2],\n",
       " [0, 0, 0, 0, 0, 0, 2, 2, 0, 2],\n",
       " [0, 0, 0, 0, 0, 0, 2, 2, 0, 2],\n",
       " [0, 0, 0, 0, 0, 0, 2, 2, 0, 1],\n",
       " [2, 2, 2, 1, 2, 2, 2, 2, 2, 2],\n",
       " [2, 2, 2, 2, 2, 2, 2, 2, 2, 2],\n",
       " [0, 0, 0, 0, 0, 0, 2, 1, 0, 2],\n",
       " [0, 0, 0, 0, 0, 0, 1, 2, 0, 2],\n",
       " [2, 2, 2, 2, 2, 2, 2, 2, 2, 2],\n",
       " [0, 0, 0, 0, 0, 0, 2, 2, 0, 2]]"
      ]
     },
     "execution_count": 261,
     "metadata": {},
     "output_type": "execute_result"
    }
   ],
   "source": [
    "third_grid"
   ]
  },
  {
   "cell_type": "code",
   "execution_count": 264,
   "metadata": {},
   "outputs": [],
   "source": [
    "# left to right\n",
    "def second_round_left(grid, x, param_hor):\n",
    "    _grid = deepcopy(grid)\n",
    "    \n",
    "    \n",
    "    for i in range(x):\n",
    "        line = [g[i] for g in _grid]\n",
    "        print(line)\n",
    "        param = param_hor[i]\n",
    "        print(param)\n",
    "        if 0 not in line: # line complete\n",
    "            print('line complete\\n')\n",
    "            continue\n",
    "        elif (y - line.count(1)) == sum(param): # line almost complete\n",
    "            new_grid = [2 if l == 0 else l for l in line]\n",
    "            for j, g in enumerate(_grid):\n",
    "                g[i] = new_grid[j]\n",
    "        else:\n",
    "            line_str = ''.join(list(map(str, line)))\n",
    "            pat = param_to_regex(param)\n",
    "            if pat.search(line_str): # pattern already fulfilled \n",
    "                line_str = line_str.replace('0', '1')\n",
    "                new_grid = list(map(int, list(line_str)))\n",
    "                for j, g in enumerate(_grid):\n",
    "                    g[i] = new_grid[j]\n",
    "            else: # pattern not fulfilled: search for possible solutions\n",
    "                pass\n",
    "        \n",
    "        #for j, g in enumerate(_grid):\n",
    "         #   g[i] = new_grid[j]\n",
    "        \n",
    "        pprint(_grid)\n",
    "        print('\\n')\n",
    "    return _grid"
   ]
  },
  {
   "cell_type": "code",
   "execution_count": 265,
   "metadata": {},
   "outputs": [
    {
     "name": "stdout",
     "output_type": "stream",
     "text": [
      "[1, 0, 0, 0, 2, 2, 0, 0, 2, 0]\n",
      "[2, 1]\n",
      "[[1, 1, 1, 1, 1, 1, 2, 2, 1, 2],\n",
      " [1, 0, 0, 0, 0, 0, 2, 2, 0, 2],\n",
      " [1, 0, 0, 0, 0, 0, 2, 2, 0, 2],\n",
      " [1, 0, 0, 0, 0, 0, 2, 2, 0, 1],\n",
      " [2, 2, 2, 1, 2, 2, 2, 2, 2, 2],\n",
      " [2, 2, 2, 2, 2, 2, 2, 2, 2, 2],\n",
      " [1, 0, 0, 0, 0, 0, 2, 1, 0, 2],\n",
      " [1, 0, 0, 0, 0, 0, 1, 2, 0, 2],\n",
      " [2, 2, 2, 2, 2, 2, 2, 2, 2, 2],\n",
      " [1, 0, 0, 0, 0, 0, 2, 2, 0, 2]]\n",
      "\n",
      "\n",
      "[1, 0, 0, 0, 2, 2, 0, 0, 2, 0]\n",
      "[3, 1]\n",
      "[[1, 1, 1, 1, 1, 1, 2, 2, 1, 2],\n",
      " [1, 0, 0, 0, 0, 0, 2, 2, 0, 2],\n",
      " [1, 0, 0, 0, 0, 0, 2, 2, 0, 2],\n",
      " [1, 0, 0, 0, 0, 0, 2, 2, 0, 1],\n",
      " [2, 2, 2, 1, 2, 2, 2, 2, 2, 2],\n",
      " [2, 2, 2, 2, 2, 2, 2, 2, 2, 2],\n",
      " [1, 0, 0, 0, 0, 0, 2, 1, 0, 2],\n",
      " [1, 0, 0, 0, 0, 0, 1, 2, 0, 2],\n",
      " [2, 2, 2, 2, 2, 2, 2, 2, 2, 2],\n",
      " [1, 0, 0, 0, 0, 0, 2, 2, 0, 2]]\n",
      "\n",
      "\n",
      "[1, 0, 0, 0, 2, 2, 0, 0, 2, 0]\n",
      "[3, 1]\n",
      "[[1, 1, 1, 1, 1, 1, 2, 2, 1, 2],\n",
      " [1, 0, 0, 0, 0, 0, 2, 2, 0, 2],\n",
      " [1, 0, 0, 0, 0, 0, 2, 2, 0, 2],\n",
      " [1, 0, 0, 0, 0, 0, 2, 2, 0, 1],\n",
      " [2, 2, 2, 1, 2, 2, 2, 2, 2, 2],\n",
      " [2, 2, 2, 2, 2, 2, 2, 2, 2, 2],\n",
      " [1, 0, 0, 0, 0, 0, 2, 1, 0, 2],\n",
      " [1, 0, 0, 0, 0, 0, 1, 2, 0, 2],\n",
      " [2, 2, 2, 2, 2, 2, 2, 2, 2, 2],\n",
      " [1, 0, 0, 0, 0, 0, 2, 2, 0, 2]]\n",
      "\n",
      "\n",
      "[1, 0, 0, 0, 1, 2, 0, 0, 2, 0]\n",
      "[1, 1, 2]\n",
      "[[1, 1, 1, 1, 1, 1, 2, 2, 1, 2],\n",
      " [1, 0, 0, 0, 0, 0, 2, 2, 0, 2],\n",
      " [1, 0, 0, 0, 0, 0, 2, 2, 0, 2],\n",
      " [1, 0, 0, 0, 0, 0, 2, 2, 0, 1],\n",
      " [2, 2, 2, 1, 2, 2, 2, 2, 2, 2],\n",
      " [2, 2, 2, 2, 2, 2, 2, 2, 2, 2],\n",
      " [1, 0, 0, 0, 0, 0, 2, 1, 0, 2],\n",
      " [1, 0, 0, 0, 0, 0, 1, 2, 0, 2],\n",
      " [2, 2, 2, 2, 2, 2, 2, 2, 2, 2],\n",
      " [1, 0, 0, 0, 0, 0, 2, 2, 0, 2]]\n",
      "\n",
      "\n",
      "[1, 0, 0, 0, 2, 2, 0, 0, 2, 0]\n",
      "[5, 2]\n",
      "[[1, 1, 1, 1, 1, 1, 2, 2, 1, 2],\n",
      " [1, 0, 0, 0, 0, 0, 2, 2, 0, 2],\n",
      " [1, 0, 0, 0, 0, 0, 2, 2, 0, 2],\n",
      " [1, 0, 0, 0, 0, 0, 2, 2, 0, 1],\n",
      " [2, 2, 2, 1, 2, 2, 2, 2, 2, 2],\n",
      " [2, 2, 2, 2, 2, 2, 2, 2, 2, 2],\n",
      " [1, 0, 0, 0, 0, 0, 2, 1, 0, 2],\n",
      " [1, 0, 0, 0, 0, 0, 1, 2, 0, 2],\n",
      " [2, 2, 2, 2, 2, 2, 2, 2, 2, 2],\n",
      " [1, 0, 0, 0, 0, 0, 2, 2, 0, 2]]\n",
      "\n",
      "\n",
      "[1, 0, 0, 0, 2, 2, 0, 0, 2, 0]\n",
      "[2, 3, 2]\n",
      "[[1, 1, 1, 1, 1, 1, 2, 2, 1, 2],\n",
      " [1, 0, 0, 0, 0, 0, 2, 2, 0, 2],\n",
      " [1, 0, 0, 0, 0, 0, 2, 2, 0, 2],\n",
      " [1, 0, 0, 0, 0, 0, 2, 2, 0, 1],\n",
      " [2, 2, 2, 1, 2, 2, 2, 2, 2, 2],\n",
      " [2, 2, 2, 2, 2, 2, 2, 2, 2, 2],\n",
      " [1, 0, 0, 0, 0, 0, 2, 1, 0, 2],\n",
      " [1, 0, 0, 0, 0, 0, 1, 2, 0, 2],\n",
      " [2, 2, 2, 2, 2, 2, 2, 2, 2, 2],\n",
      " [1, 0, 0, 0, 0, 0, 2, 2, 0, 2]]\n",
      "\n",
      "\n",
      "[2, 2, 2, 2, 2, 2, 2, 1, 2, 2]\n",
      "[7, 2]\n",
      "line complete\n",
      "\n",
      "[2, 2, 2, 2, 2, 2, 1, 2, 2, 2]\n",
      "[6, 3]\n",
      "line complete\n",
      "\n",
      "[1, 0, 0, 0, 2, 2, 0, 0, 2, 0]\n",
      "[9]\n",
      "[[1, 1, 1, 1, 1, 1, 2, 2, 1, 2],\n",
      " [1, 0, 0, 0, 0, 0, 2, 2, 2, 2],\n",
      " [1, 0, 0, 0, 0, 0, 2, 2, 2, 2],\n",
      " [1, 0, 0, 0, 0, 0, 2, 2, 2, 1],\n",
      " [2, 2, 2, 1, 2, 2, 2, 2, 2, 2],\n",
      " [2, 2, 2, 2, 2, 2, 2, 2, 2, 2],\n",
      " [1, 0, 0, 0, 0, 0, 2, 1, 2, 2],\n",
      " [1, 0, 0, 0, 0, 0, 1, 2, 2, 2],\n",
      " [2, 2, 2, 2, 2, 2, 2, 2, 2, 2],\n",
      " [1, 0, 0, 0, 0, 0, 2, 2, 2, 2]]\n",
      "\n",
      "\n",
      "[2, 2, 2, 1, 2, 2, 2, 2, 2, 2]\n",
      "[3, 6]\n",
      "line complete\n",
      "\n"
     ]
    }
   ],
   "source": [
    "fourth_grid = second_round_left(third_grid, x, param_hor)"
   ]
  },
  {
   "cell_type": "code",
   "execution_count": 266,
   "metadata": {},
   "outputs": [
    {
     "data": {
      "text/plain": [
       "[[1, 1, 1, 1, 1, 1, 2, 2, 1, 2],\n",
       " [1, 0, 0, 0, 0, 0, 2, 2, 2, 2],\n",
       " [1, 0, 0, 0, 0, 0, 2, 2, 2, 2],\n",
       " [1, 0, 0, 0, 0, 0, 2, 2, 2, 1],\n",
       " [2, 2, 2, 1, 2, 2, 2, 2, 2, 2],\n",
       " [2, 2, 2, 2, 2, 2, 2, 2, 2, 2],\n",
       " [1, 0, 0, 0, 0, 0, 2, 1, 2, 2],\n",
       " [1, 0, 0, 0, 0, 0, 1, 2, 2, 2],\n",
       " [2, 2, 2, 2, 2, 2, 2, 2, 2, 2],\n",
       " [1, 0, 0, 0, 0, 0, 2, 2, 2, 2]]"
      ]
     },
     "execution_count": 266,
     "metadata": {},
     "output_type": "execute_result"
    }
   ],
   "source": [
    "fourth_grid"
   ]
  }
 ],
 "metadata": {
  "kernelspec": {
   "display_name": "Python 3",
   "language": "python",
   "name": "python3"
  },
  "language_info": {
   "codemirror_mode": {
    "name": "ipython",
    "version": 3
   },
   "file_extension": ".py",
   "mimetype": "text/x-python",
   "name": "python",
   "nbconvert_exporter": "python",
   "pygments_lexer": "ipython3",
   "version": "3.7.6"
  }
 },
 "nbformat": 4,
 "nbformat_minor": 4
}
